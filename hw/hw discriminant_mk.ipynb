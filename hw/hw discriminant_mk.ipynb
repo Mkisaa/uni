{
 "cells": [
  {
   "cell_type": "code",
   "execution_count": 2,
   "metadata": {
    "collapsed": true,
    "ExecuteTime": {
     "end_time": "2024-03-16T14:44:48.683937700Z",
     "start_time": "2024-03-16T14:44:48.672146300Z"
    }
   },
   "outputs": [],
   "source": [
    "#Напишите программу, которая находит корни квадратного уравнения. Следует учесть, что данные пользователь вводит сам"
   ]
  },
  {
   "cell_type": "code",
   "execution_count": 4,
   "outputs": [
    {
     "name": "stdout",
     "output_type": "stream",
     "text": [
      "Введите коэффициент а для квадратного уравнения, ax^2 + bx + c = 0 : \n",
      "Введите коэффициент b для квадратного уравнения, ax^2 + bx + c = 0 : \n",
      "Введите коэффициент с для квадратного уравнения, если : ax^2 + bx + c = 0 : \n",
      "Вы верно ввели коэффициенты\n",
      "Дискриминант > 0, поэтому 2 корня: \n",
      "первый корень: x1 =  0.0\n",
      "второй корень: x2 =  -4.0\n"
     ]
    }
   ],
   "source": [
    "import math\n",
    "\n",
    "print(\"Введите коэффициент а для квадратного уравнения, ax^2 + bx + c = 0 : \")\n",
    "a = float(input(\"a = \"))\n",
    "print(\"Введите коэффициент b для квадратного уравнения, ax^2 + bx + c = 0 : \")\n",
    "b = float(input(\"b = \"))\n",
    "print(\"Введите коэффициент с для квадратного уравнения, если : ax^2 + bx + c = 0 : \")\n",
    "c = float(input(\"c = \"))\n",
    "\n",
    "d = b ** 2 - 4 * a * c # формула вычисления дискриминанта\n",
    "\n",
    "if a == 0:\n",
    "    print(\"если а=0, то это линейное уравнение и в нем не нужно считать дискриминант! \")\n",
    "elif a !=0:\n",
    "    print(\"Вы верно ввели коэффициенты\")\n",
    "    if d > 0:\n",
    "        print(\"Дискриминант > 0, поэтому 2 корня: \")\n",
    "        x1 = (-b + math.sqrt(d)) / (2 * a)\n",
    "        x2 = (-b - math.sqrt(d)) / (2 * a)\n",
    "        print(\"первый корень: x1 = \", x1)\n",
    "        print(\"второй корень: x2 = \", x2)\n",
    "    elif d == 0:\n",
    "        print(\"Дискриминант = 0, поэтому 1 корень: \")\n",
    "        x = -b / (2 * a)\n",
    "        print(\"один корень: x = \", x)\n",
    "    else:\n",
    "        print(\"В данном уравнении корней нет\")"
   ],
   "metadata": {
    "collapsed": false,
    "ExecuteTime": {
     "end_time": "2024-03-16T14:45:30.706552800Z",
     "start_time": "2024-03-16T14:45:21.214189600Z"
    }
   }
  }
 ],
 "metadata": {
  "kernelspec": {
   "display_name": "Python 3",
   "language": "python",
   "name": "python3"
  },
  "language_info": {
   "codemirror_mode": {
    "name": "ipython",
    "version": 2
   },
   "file_extension": ".py",
   "mimetype": "text/x-python",
   "name": "python",
   "nbconvert_exporter": "python",
   "pygments_lexer": "ipython2",
   "version": "2.7.6"
  }
 },
 "nbformat": 4,
 "nbformat_minor": 0
}
