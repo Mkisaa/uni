{
 "cells": [
  {
   "cell_type": "code",
   "execution_count": 1,
   "metadata": {
    "collapsed": true,
    "ExecuteTime": {
     "end_time": "2024-03-16T14:47:23.901510400Z",
     "start_time": "2024-03-16T14:47:23.895021200Z"
    }
   },
   "outputs": [],
   "source": [
    "#Написать программу, которая просит ввести температуру в градусах цельсия или фаренгейта (12C или 100F).\n",
    "#Программа должна проверить корректность ввода, а затем вывести значение в другой шкала: если ввод был в цельсиях, то вывод - в фаренгейтах и наоборот.\n",
    "#Ввод: 40C Вывод: 104F"
   ]
  },
  {
   "cell_type": "code",
   "execution_count": 2,
   "outputs": [
    {
     "name": "stdout",
     "output_type": "stream",
     "text": [
      "Температура в фаренгейтах: 104F\n"
     ]
    }
   ],
   "source": [
    "x = input('Введите температуру с указанием шкалы измерений C/F без пробелов (например 20С): ')\n",
    "if x[-1] == 'C': #если 3 символ это \"С\", то ...\n",
    "    f = int(x[:-1])*1.8 + 32\n",
    "    print(\"Температура в фаренгейтах: \", round(f),\"F\",sep=\"\")\n",
    "else:\n",
    "    f = (int(x[:-1])-32)/1.8\n",
    "    print(\"Температура в градусах: \", round(f),\"C\",sep=\"\")"
   ],
   "metadata": {
    "collapsed": false,
    "ExecuteTime": {
     "end_time": "2024-03-16T14:47:32.958875300Z",
     "start_time": "2024-03-16T14:47:29.107988300Z"
    }
   }
  }
 ],
 "metadata": {
  "kernelspec": {
   "display_name": "Python 3",
   "language": "python",
   "name": "python3"
  },
  "language_info": {
   "codemirror_mode": {
    "name": "ipython",
    "version": 2
   },
   "file_extension": ".py",
   "mimetype": "text/x-python",
   "name": "python",
   "nbconvert_exporter": "python",
   "pygments_lexer": "ipython2",
   "version": "2.7.6"
  }
 },
 "nbformat": 4,
 "nbformat_minor": 0
}
